{
 "cells": [
  {
   "cell_type": "markdown",
   "id": "5be97cd3-0f78-4067-a6b2-9de076dfe2a0",
   "metadata": {},
   "source": [
    "# GOES Data from GEE"
   ]
  },
  {
   "cell_type": "code",
   "execution_count": 4,
   "id": "4703e98a-e71d-4539-b061-3a868589d15c",
   "metadata": {},
   "outputs": [],
   "source": [
    "import ee\n",
    "import geemap\n",
    "\n",
    "# Initialize the Earth Engine module.\n",
    "ee.Initialize()\n",
    "\n",
    "Map = geemap.Map()\n",
    "\n",
    "# Band aliases.\n",
    "BLUE = 'CMI_C01'\n",
    "RED = 'CMI_C02'\n",
    "VEGGIE = 'CMI_C03'\n",
    "GREEN = 'GREEN'\n",
    "\n",
    "# Number of bands in the EE asset, 0-based.\n",
    "NUM_BANDS = 33\n",
    "\n",
    "# Skipping the interleaved DQF bands.\n",
    "BLUE_BAND_INDEX = (1 - 1) * 2\n",
    "RED_BAND_INDEX = (2 - 1) * 2\n",
    "VEGGIE_BAND_INDEX = (3 - 1) * 2\n",
    "GREEN_BAND_INDEX = NUM_BANDS - 1\n",
    "\n",
    "# Visualization range for GOES RGB.\n",
    "GOES_MIN = 0.0\n",
    "GOES_MAX = 0.7  # Alternatively 1.0 or 1.3.\n",
    "GAMMA = 1.3\n",
    "\n",
    "goes_rgb_viz = {\n",
    "    'bands': [RED, GREEN, BLUE],\n",
    "    'min': GOES_MIN,\n",
    "    'max': GOES_MAX,\n",
    "    'gamma': GAMMA\n",
    "}\n",
    "\n",
    "def apply_scale_and_offset(image):\n",
    "    bands = [None] * NUM_BANDS  # Initialize with None to ensure correct length.\n",
    "    \n",
    "    for i in range(1, 17):\n",
    "        band_name = f'CMI_C{str(100 + i)[-2:]}'\n",
    "        offset = ee.Number(image.get(f'{band_name}_offset'))\n",
    "        scale = ee.Number(image.get(f'{band_name}_scale'))\n",
    "        bands[(i - 1) * 2] = image.select(band_name).multiply(scale).add(offset)\n",
    "\n",
    "        dqf_name = f'DQF_C{str(100 + i)[-2:]}'\n",
    "        bands[(i - 1) * 2 + 1] = image.select(dqf_name)\n",
    "\n",
    "    # Green = 0.45 * Red + 0.10 * NIR + 0.45 * Blue\n",
    "    green1 = bands[RED_BAND_INDEX].multiply(0.45)\n",
    "    green2 = bands[VEGGIE_BAND_INDEX].multiply(0.10)\n",
    "    green3 = bands[BLUE_BAND_INDEX].multiply(0.45)\n",
    "    green = green1.add(green2).add(green3)\n",
    "    bands[GREEN_BAND_INDEX] = green.rename(GREEN)\n",
    "\n",
    "    return ee.Image(ee.Image(bands).copyProperties(image, image.propertyNames()))\n",
    "\n",
    "collection = 'NOAA/GOES/16/MCMIPC/'\n",
    "image_name = '2020211203115800000'\n",
    "asset_id = collection + image_name\n",
    "image = apply_scale_and_offset(ee.Image(asset_id))\n",
    "\n",
    "# Assuming 'Map' is already defined in your environment (like in a Jupyter notebook).\n",
    "Map.setCenter(-75, 37, 5)\n",
    "Map.addLayer(image, goes_rgb_viz)"
   ]
  },
  {
   "cell_type": "code",
   "execution_count": 5,
   "id": "de0809b0-2365-421d-a9f9-cf00c8304703",
   "metadata": {},
   "outputs": [
    {
     "data": {
      "text/html": [
       "\n",
       "            <style>\n",
       "                .geemap-dark {\n",
       "                    --jp-widgets-color: white;\n",
       "                    --jp-widgets-label-color: white;\n",
       "                    --jp-ui-font-color1: white;\n",
       "                    --jp-layout-color2: #454545;\n",
       "                    background-color: #383838;\n",
       "                }\n",
       "\n",
       "                .geemap-dark .jupyter-button {\n",
       "                    --jp-layout-color3: #383838;\n",
       "                }\n",
       "\n",
       "                .geemap-colab {\n",
       "                    background-color: var(--colab-primary-surface-color, white);\n",
       "                }\n",
       "\n",
       "                .geemap-colab .jupyter-button {\n",
       "                    --jp-layout-color3: var(--colab-primary-surface-color, white);\n",
       "                }\n",
       "            </style>\n",
       "            "
      ],
      "text/plain": [
       "<IPython.core.display.HTML object>"
      ]
     },
     "metadata": {},
     "output_type": "display_data"
    },
    {
     "data": {
      "application/vnd.jupyter.widget-view+json": {
       "model_id": "84fb9c34155f4323b493656886ff247a",
       "version_major": 2,
       "version_minor": 0
      },
      "text/plain": [
       "Map(center=[37, -75], controls=(WidgetControl(options=['position', 'transparent_bg'], widget=SearchDataGUI(chi…"
      ]
     },
     "execution_count": 5,
     "metadata": {},
     "output_type": "execute_result"
    }
   ],
   "source": [
    "Map"
   ]
  },
  {
   "cell_type": "code",
   "execution_count": 23,
   "id": "d7326a9f-d67f-4953-826b-d93b9cfe6160",
   "metadata": {},
   "outputs": [
    {
     "data": {
      "text/html": [
       "\n",
       "            <style>\n",
       "                .geemap-dark {\n",
       "                    --jp-widgets-color: white;\n",
       "                    --jp-widgets-label-color: white;\n",
       "                    --jp-ui-font-color1: white;\n",
       "                    --jp-layout-color2: #454545;\n",
       "                    background-color: #383838;\n",
       "                }\n",
       "\n",
       "                .geemap-dark .jupyter-button {\n",
       "                    --jp-layout-color3: #383838;\n",
       "                }\n",
       "\n",
       "                .geemap-colab {\n",
       "                    background-color: var(--colab-primary-surface-color, white);\n",
       "                }\n",
       "\n",
       "                .geemap-colab .jupyter-button {\n",
       "                    --jp-layout-color3: var(--colab-primary-surface-color, white);\n",
       "                }\n",
       "            </style>\n",
       "            "
      ],
      "text/plain": [
       "<IPython.core.display.HTML object>"
      ]
     },
     "metadata": {},
     "output_type": "display_data"
    }
   ],
   "source": [
    "start_date = '2018-07-26'\n",
    "end_date =  '2018-07-27'\n",
    "date_of_interest = ee.Date('2018-07-26')\n",
    "\n",
    "roi = ee.Geometry.Rectangle([-122.8, 40, -121, 41])\n",
    "\n",
    "goes = ee.ImageCollection(\"NOAA/GOES/16/MCMIPC\").filterDate(start_date, end_date).filterBounds(roi)\n",
    "\n",
    "goes_sort = goes.map(lambda image: image.set(\n",
    "        'dateDist',\n",
    "        ee.Number(image.get('system:time_start')).subtract(date_of_interest.millis()).abs()))\n",
    "\n",
    "# sort in ascending order by dateDist (so top image will correspond to date of interest)\n",
    "goes_sorted = goes_sort.sort('dateDist')\n",
    "\n",
    "# grab the first image from the sorted image collection\n",
    "goes_img = goes_sorted.first()\n",
    "\n",
    "# clip the image to the roi\n",
    "goes_img_clipped = goes_img.clip(roi)\n",
    "\n",
    "image = apply_scale_and_offset(ee.Image(goes_img_clipped))\n",
    "\n",
    "Map.addLayer(image, goes_rgb_viz, 'clipped')"
   ]
  },
  {
   "cell_type": "code",
   "execution_count": 19,
   "id": "67f8a444-2ec9-4d01-9c2d-d14414f91d28",
   "metadata": {},
   "outputs": [
    {
     "data": {
      "text/html": [
       "\n",
       "            <style>\n",
       "                .geemap-dark {\n",
       "                    --jp-widgets-color: white;\n",
       "                    --jp-widgets-label-color: white;\n",
       "                    --jp-ui-font-color1: white;\n",
       "                    --jp-layout-color2: #454545;\n",
       "                    background-color: #383838;\n",
       "                }\n",
       "\n",
       "                .geemap-dark .jupyter-button {\n",
       "                    --jp-layout-color3: #383838;\n",
       "                }\n",
       "\n",
       "                .geemap-colab {\n",
       "                    background-color: var(--colab-primary-surface-color, white);\n",
       "                }\n",
       "\n",
       "                .geemap-colab .jupyter-button {\n",
       "                    --jp-layout-color3: var(--colab-primary-surface-color, white);\n",
       "                }\n",
       "            </style>\n",
       "            "
      ],
      "text/plain": [
       "<IPython.core.display.HTML object>"
      ]
     },
     "metadata": {},
     "output_type": "display_data"
    }
   ],
   "source": [
    "import xarray\n",
    "ds = xarray.open_dataset(goes_sorted, engine='ee', crs='EPSG:4326', scale=0.25)"
   ]
  },
  {
   "cell_type": "code",
   "execution_count": 20,
   "id": "c139e8ec-953c-4c4d-a6ac-223be5cbf5bf",
   "metadata": {},
   "outputs": [
    {
     "data": {
      "text/html": [
       "\n",
       "            <style>\n",
       "                .geemap-dark {\n",
       "                    --jp-widgets-color: white;\n",
       "                    --jp-widgets-label-color: white;\n",
       "                    --jp-ui-font-color1: white;\n",
       "                    --jp-layout-color2: #454545;\n",
       "                    background-color: #383838;\n",
       "                }\n",
       "\n",
       "                .geemap-dark .jupyter-button {\n",
       "                    --jp-layout-color3: #383838;\n",
       "                }\n",
       "\n",
       "                .geemap-colab {\n",
       "                    background-color: var(--colab-primary-surface-color, white);\n",
       "                }\n",
       "\n",
       "                .geemap-colab .jupyter-button {\n",
       "                    --jp-layout-color3: var(--colab-primary-surface-color, white);\n",
       "                }\n",
       "            </style>\n",
       "            "
      ],
      "text/plain": [
       "<IPython.core.display.HTML object>"
      ]
     },
     "metadata": {},
     "output_type": "display_data"
    },
    {
     "name": "stdout",
     "output_type": "stream",
     "text": [
      "<xarray.Dataset> Size: 36GB\n",
      "Dimensions:  (time: 272, lon: 1440, lat: 720)\n",
      "Coordinates:\n",
      "  * time     (time) datetime64[ns] 2kB 2018-07-26T00:02:19.700000 ... 2018-07...\n",
      "  * lon      (lon) float64 12kB -179.9 -179.6 -179.4 ... 179.4 179.6 179.9\n",
      "  * lat      (lat) float64 6kB -89.88 -89.62 -89.38 -89.12 ... 89.38 89.62 89.88\n",
      "Data variables: (12/32)\n",
      "    CMI_C01  (time, lon, lat) float32 1GB ...\n",
      "    DQF_C01  (time, lon, lat) float32 1GB ...\n",
      "    CMI_C02  (time, lon, lat) float32 1GB ...\n",
      "    DQF_C02  (time, lon, lat) float32 1GB ...\n",
      "    CMI_C03  (time, lon, lat) float32 1GB ...\n",
      "    DQF_C03  (time, lon, lat) float32 1GB ...\n",
      "    ...       ...\n",
      "    CMI_C14  (time, lon, lat) float32 1GB ...\n",
      "    DQF_C14  (time, lon, lat) float32 1GB ...\n",
      "    CMI_C15  (time, lon, lat) float32 1GB ...\n",
      "    DQF_C15  (time, lon, lat) float32 1GB ...\n",
      "    CMI_C16  (time, lon, lat) float32 1GB ...\n",
      "    DQF_C16  (time, lon, lat) float32 1GB ...\n",
      "Attributes: (12/18)\n",
      "    date_range:             [1499644800000, 1647993600000]\n",
      "    description:            <p>The Cloud and Moisture Imagery products are al...\n",
      "    keywords:               ['abi', 'climate', 'goes', 'goes-16', 'goes-east'...\n",
      "    period:                 0\n",
      "    product_tags:           ['climate', 'weather']\n",
      "    provider:               NOAA\n",
      "    ...                     ...\n",
      "    type_name:              ImageCollection\n",
      "    visualization_0_bands:  CMI_C01\n",
      "    visualization_0_max:    3000.0\n",
      "    visualization_0_min:    0.0\n",
      "    visualization_0_name:   Blue band\n",
      "    crs:                    EPSG:4326\n"
     ]
    }
   ],
   "source": [
    "print(ds)"
   ]
  },
  {
   "cell_type": "code",
   "execution_count": null,
   "id": "ff4eb300-78cb-4838-abc4-923c567e50e2",
   "metadata": {},
   "outputs": [],
   "source": []
  }
 ],
 "metadata": {
  "kernelspec": {
   "display_name": "ee",
   "language": "python",
   "name": "ee"
  },
  "language_info": {
   "codemirror_mode": {
    "name": "ipython",
    "version": 3
   },
   "file_extension": ".py",
   "mimetype": "text/x-python",
   "name": "python",
   "nbconvert_exporter": "python",
   "pygments_lexer": "ipython3",
   "version": "3.12.5"
  }
 },
 "nbformat": 4,
 "nbformat_minor": 5
}
