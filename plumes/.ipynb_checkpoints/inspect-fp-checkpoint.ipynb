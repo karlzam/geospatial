{
 "cells": [
  {
   "cell_type": "code",
   "execution_count": 2,
   "id": "78835d4d-cc7a-40f9-95cf-a597f6ef8a2a",
   "metadata": {},
   "outputs": [
    {
     "data": {
      "text/html": [
       "\n",
       "            <style>\n",
       "                .geemap-dark {\n",
       "                    --jp-widgets-color: white;\n",
       "                    --jp-widgets-label-color: white;\n",
       "                    --jp-ui-font-color1: white;\n",
       "                    --jp-layout-color2: #454545;\n",
       "                    background-color: #383838;\n",
       "                }\n",
       "\n",
       "                .geemap-dark .jupyter-button {\n",
       "                    --jp-layout-color3: #383838;\n",
       "                }\n",
       "\n",
       "                .geemap-colab {\n",
       "                    background-color: var(--colab-primary-surface-color, white);\n",
       "                }\n",
       "\n",
       "                .geemap-colab .jupyter-button {\n",
       "                    --jp-layout-color3: var(--colab-primary-surface-color, white);\n",
       "                }\n",
       "            </style>\n",
       "            "
      ],
      "text/plain": [
       "<IPython.core.display.HTML object>"
      ]
     },
     "metadata": {},
     "output_type": "display_data"
    }
   ],
   "source": [
    "import io\n",
    "import pandas as pd\n",
    "import geopandas as gpd\n",
    "import matplotlib.pyplot as plt\n",
    "from datetime import datetime, timedelta\n",
    "from timezonefinder import TimezoneFinder\n",
    "import time\n",
    "from glob import glob\n",
    "import rasterio as rio\n",
    "from googleapiclient.discovery import build\n",
    "from google.oauth2 import service_account\n",
    "from googleapiclient.http import MediaIoBaseDownload\n",
    "import numpy as np\n",
    "from osgeo import gdal\n",
    "gdal.SetConfigOption('SHAPE_RESTORE_SHX', 'YES')\n",
    "import ee\n",
    "import geemap\n"
   ]
  },
  {
   "cell_type": "code",
   "execution_count": 18,
   "id": "9eb835e4-17a8-4069-9d50-2c02273f9ef3",
   "metadata": {},
   "outputs": [
    {
     "data": {
      "text/html": [
       "\n",
       "            <style>\n",
       "                .geemap-dark {\n",
       "                    --jp-widgets-color: white;\n",
       "                    --jp-widgets-label-color: white;\n",
       "                    --jp-ui-font-color1: white;\n",
       "                    --jp-layout-color2: #454545;\n",
       "                    background-color: #383838;\n",
       "                }\n",
       "\n",
       "                .geemap-dark .jupyter-button {\n",
       "                    --jp-layout-color3: #383838;\n",
       "                }\n",
       "\n",
       "                .geemap-colab {\n",
       "                    background-color: var(--colab-primary-surface-color, white);\n",
       "                }\n",
       "\n",
       "                .geemap-colab .jupyter-button {\n",
       "                    --jp-layout-color3: var(--colab-primary-surface-color, white);\n",
       "                }\n",
       "            </style>\n",
       "            "
      ],
      "text/plain": [
       "<IPython.core.display.HTML object>"
      ]
     },
     "metadata": {},
     "output_type": "display_data"
    },
    {
     "data": {
      "application/vnd.jupyter.widget-view+json": {
       "model_id": "2ce4a379308c47e5b02b0c6603e4135d",
       "version_major": 2,
       "version_minor": 0
      },
      "text/plain": [
       "Map(center=[57.23179309689481, -120.69128499999755], controls=(WidgetControl(options=['position', 'transparent…"
      ]
     },
     "execution_count": 18,
     "metadata": {},
     "output_type": "execute_result"
    }
   ],
   "source": [
    "Map = geemap.Map()\n",
    "\n",
    "hotspot_date = '2023-09-23'\n",
    "    \n",
    "roi = ee.Geometry.Rectangle([-120.71115000000002, 57.1932, -120.67142, 57.270409999999984])\n",
    "\n",
    "date_of_interest = ee.Date(hotspot_date)\n",
    "start_date = '2023-09-23'\n",
    "end_date = '2023-09-24'\n",
    "\n",
    "## VIIRS TRUE COLOUR\n",
    "viirs = ee.ImageCollection(\"NASA/VIIRS/002/VNP09GA\").filterDate(start_date, end_date).filterBounds(roi)\n",
    "\n",
    "rgb_viirs_tc = viirs.select(['M5', 'M4', 'M3'])\n",
    "\n",
    "# Subtract the time of each image in collection from date of interest\n",
    "rgb_viirs_tc_sort = rgb_viirs_tc.map(lambda image: image.set(\n",
    "    'dateDist',\n",
    "    ee.Number(image.get('system:time_start')).subtract(date_of_interest.millis()).abs()\n",
    "))\n",
    "\n",
    "# sort in ascending order by dateDist (so top image will correspond to date of interest)\n",
    "viirs_ic_rc_sorted = rgb_viirs_tc_sort.sort('dateDist')\n",
    "\n",
    "# grab the first image from the sorted image collection\n",
    "img_viirs_tc = viirs_ic_rc_sorted.first()\n",
    "\n",
    "# clip the image to the roi\n",
    "clipped_viirs_tc = img_viirs_tc.clip(roi)\n",
    "\n",
    "rgb_vis_viirs_tc = {'min': 0.0, 'max': 0.3}\n",
    "\n",
    "Map.centerObject(roi, 18);\n",
    "Map.addLayer(clipped_viirs_tc, rgb_vis_viirs_tc, 'C-viirs-tc', shown=1)\n",
    "Map.addLayer(img_viirs_tc, rgb_vis_viirs_tc, 'F-viirs-tc', shown=1)\n",
    "Map"
   ]
  },
  {
   "cell_type": "code",
   "execution_count": null,
   "id": "c983bbca-9bcb-43aa-89ec-28e5565a1c4b",
   "metadata": {},
   "outputs": [],
   "source": []
  }
 ],
 "metadata": {
  "kernelspec": {
   "display_name": "ee",
   "language": "python",
   "name": "ee"
  },
  "language_info": {
   "codemirror_mode": {
    "name": "ipython",
    "version": 3
   },
   "file_extension": ".py",
   "mimetype": "text/x-python",
   "name": "python",
   "nbconvert_exporter": "python",
   "pygments_lexer": "ipython3",
   "version": "3.12.5"
  }
 },
 "nbformat": 4,
 "nbformat_minor": 5
}
