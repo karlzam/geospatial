{
 "cells": [
  {
   "cell_type": "markdown",
   "id": "bb591963-9f80-45f5-9a2a-f64f941882ed",
   "metadata": {},
   "source": [
    "# Plume Tool\n",
    "\n",
    "## What is a plume? \n",
    "A plume is characterized by rising buoyant fluids where the buoyancy forces arise from intense localized sources [[1]](https://www.sciencedirect.com/science/article/abs/pii/B978012386660850009X). Thermal plumes (super-heated smoke plumes) are large, tall volumes of hot material that form over large, intense wildfires. Sometimes VIIRS instruments detect the surface fire along with the plume and incorrectly categorize the plume as an active fire. Hot plumes carry a signature which is easily confused with that of the “real” fire perimeter. \n",
    "\n",
    "This happens when ([as reported here](https://www.earthdata.nasa.gov/faq/firms-faq#ed-false-detections)): \n",
    "\n",
    "1. Parallax effect causes tall/superheated plume detection pixel(s) to be displaced laterally when projected onto the surface\n",
    "2. Tall, superheated plumes carrying large volumes of hot material into the air are formed over large and intense wildfires, and VIIRS detects the surface fire along with part of the plume and categorizes them as active fires\n",
    "\n",
    "[FIRMS](https://www.earthdata.nasa.gov/faq/firms-faq#ed-false-detections) also discusses when false positives from superheated plumes are most likely to occur: \n",
    "\n",
    "1. Nighttime: This is the period during which the VIIRS active fire product is particularly responsive to heat sources thereby favoring plume detection\n",
    "\n",
    "2. Very large wildfires undergoing explosive growth and acompanied by rapid/vertically elongated plume development. Enough hot material must entrain the plume creating a distinguishable thermal signal (i.e., one that significantly exceeds the fire-free surface background)\n",
    "\n",
    "3. High scan angle: This is what will ultimately produce the detections extending beyond the actual fire perimeter\n",
    "\n",
    "They recommend using observations from other sources for these cases. \n",
    "\n",
    "## Brainstorming Solutions\n",
    "\n",
    "### Identifying hot spots which are outside of known fire perimeters\n",
    "\n",
    "Questions from KZ: \n",
    "- How are the final perimeters created? Will they be affected by the false detections? If they use satellite imagery and the hotspot detection algorithms, can the final fire perimeters be used at all to identify false positives? \n",
    "\n",
    "1. Identify hot spots which are outside of final fire perimeters reported by an agency (such as NBAC, NFDB, MTBS)\n",
    "\n",
    "2. Remove known cases for false positives (sunglint, water bodies, persistent heat sources which correspond to false positives)\n",
    "\n",
    "3. Explore day of burning perimeters for the remaining false positives, which can be created using similar methods as done in [Balik et al. 2024](https://www.frontiersin.org/journals/forests-and-global-change/articles/10.3389/ffgc.2024.1355361/full), [Parks et al. 2014](https://www.publish.csiro.au/wf/WF13138), and [Barber et al. 2024](https://www.nature.com/articles/s41597-024-03436-4). The day of burning perimeters are usually interpolated from VIIRS/MODIS hotspots. These will be affected by the false detections.\n",
    "\n",
    "### Other calculated/measured variables \n",
    "\n",
    "1. FRP has been shown to be a good indication of false positive detections [[2]](https://www.mdpi.com/2220-9964/11/12/601). Maybe FRP can be used to lower confidence of hot spot detections if there is some statistical significance between:\n",
    "    - The FRP of points within the perimeter and outside of the perimeter\n",
    "    - The FRP of fires corresponding to hot superheated smoke plumes compared to fires with no superheated smoke plumes (How hot are plumes compared to regular fires?)\n",
    "\n",
    "2. 100 m wind speeds might be able to be used to identify \"blown\" plumes, along with the height of the plume \n",
    "    - Can we encorporate wind speed to see if the plume is being pushed in the wind direction\n",
    "\n",
    "4. How hot are the plumes?\n",
    "    - Can we use bands from satellite imagery to identify heat within the plumes and, along with other environmental variables (wind etc), determine that the detection is smoke?\n",
    "  \n",
    "### Other Datasets of Smoke Plumes\n",
    "\n",
    "1. [MISR Plume Height Project 2](https://misr.jpl.nasa.gov/get-data/misr-plume-height-project-2/)\n",
    "    - Publicly available database of wildfire smoke plume heights\n",
    "    - [MERLIN](https://l0dup05.larc.nasa.gov/merlin/merlin)\n",
    "\n",
    "3. [USTC_SmokeRS](https://onedrive.live.com/?authkey=%21AFYQkl1tP%2DQh3Ek&id=2B888FC2F8F47809%21857&cid=2B888FC2F8F47809)\n",
    "    - The dataset is collected based on Moderate Resolution Imaging Spectroradiometer (MODIS) data, consisting of 6225 RGB images from six classes including Cloud, Dust, Haze, Land, Seaside, and Smoke\n",
    "\n",
    "## This Notebook\n",
    "\n",
    "[This blog](https://landweb.modaps.eosdis.nasa.gov/displayissue?id=339) has listed some examples of known plumes within the United States. A metadata file was created by referencing these plumes and is used as input to this notebook. This notebook uses GEE and FIRMS to explore hot spots (VIIRS SNPP, VIIRS NOAA20, MODIS, GOES) and corresponding satellite imagery (Landsat, VIIRS, GOES) to aid in the identification of false fire detections caused by the presence of superheated plumes. These false detections can be located outside of the reported fire perimeter of a large wildfire. \n",
    "\n",
    "You can export the clipped tiff files from Google Earth Engine using this notebook as well, but we found exploring interactively using geemap made more sense in this instance."
   ]
  },
  {
   "cell_type": "code",
   "execution_count": null,
   "id": "0d052836-2be0-4212-b33f-2e840e1333c2",
   "metadata": {},
   "outputs": [],
   "source": []
  },
  {
   "cell_type": "code",
   "execution_count": null,
   "id": "ba5a90b5-229d-4a09-8bd4-08a42d91d1c8",
   "metadata": {},
   "outputs": [],
   "source": []
  }
 ],
 "metadata": {
  "kernelspec": {
   "display_name": "ee",
   "language": "python",
   "name": "ee"
  },
  "language_info": {
   "codemirror_mode": {
    "name": "ipython",
    "version": 3
   },
   "file_extension": ".py",
   "mimetype": "text/x-python",
   "name": "python",
   "nbconvert_exporter": "python",
   "pygments_lexer": "ipython3",
   "version": "3.12.5"
  }
 },
 "nbformat": 4,
 "nbformat_minor": 5
}
