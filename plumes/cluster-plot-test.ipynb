{
 "cells": [
  {
   "cell_type": "code",
   "execution_count": 48,
   "id": "e6a4896d-d70c-4edf-ad0e-a0a5211ab99f",
   "metadata": {},
   "outputs": [],
   "source": [
    "import matplotlib.pyplot as plt\n",
    "import pandas as pd\n",
    "import geopandas as gpd\n",
    "import numpy as np"
   ]
  },
  {
   "cell_type": "code",
   "execution_count": 70,
   "id": "9c144897-4220-4603-b10a-76bacdfb3415",
   "metadata": {},
   "outputs": [],
   "source": [
    "db_pts = pd.read_excel(r'C:\\Users\\kzammit\\Documents\\plumes\\dfs\\clusters-dbscan.xlsx')\n",
    "kz_pts = pd.read_excel(r'C:\\Users\\kzammit\\Documents\\plumes\\dfs\\all-false-positives.xlsx')"
   ]
  },
  {
   "cell_type": "code",
   "execution_count": null,
   "id": "6b4202e7-e353-4233-9063-7dcb32955e61",
   "metadata": {},
   "outputs": [],
   "source": []
  }
 ],
 "metadata": {
  "kernelspec": {
   "display_name": "ee",
   "language": "python",
   "name": "ee"
  },
  "language_info": {
   "codemirror_mode": {
    "name": "ipython",
    "version": 3
   },
   "file_extension": ".py",
   "mimetype": "text/x-python",
   "name": "python",
   "nbconvert_exporter": "python",
   "pygments_lexer": "ipython3",
   "version": "3.12.5"
  }
 },
 "nbformat": 4,
 "nbformat_minor": 5
}
