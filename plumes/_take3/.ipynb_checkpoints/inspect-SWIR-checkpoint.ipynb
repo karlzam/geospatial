{
 "cells": [
  {
   "cell_type": "code",
   "execution_count": 36,
   "id": "ab85addf-be09-4cd1-a43a-2990c3cb8b2f",
   "metadata": {},
   "outputs": [
    {
     "data": {
      "text/html": [
       "\n",
       "            <style>\n",
       "                .geemap-dark {\n",
       "                    --jp-widgets-color: white;\n",
       "                    --jp-widgets-label-color: white;\n",
       "                    --jp-ui-font-color1: white;\n",
       "                    --jp-layout-color2: #454545;\n",
       "                    background-color: #383838;\n",
       "                }\n",
       "\n",
       "                .geemap-dark .jupyter-button {\n",
       "                    --jp-layout-color3: #383838;\n",
       "                }\n",
       "\n",
       "                .geemap-colab {\n",
       "                    background-color: var(--colab-primary-surface-color, white);\n",
       "                }\n",
       "\n",
       "                .geemap-colab .jupyter-button {\n",
       "                    --jp-layout-color3: var(--colab-primary-surface-color, white);\n",
       "                }\n",
       "            </style>\n",
       "            "
      ],
      "text/plain": [
       "<IPython.core.display.HTML object>"
      ]
     },
     "metadata": {},
     "output_type": "display_data"
    }
   ],
   "source": [
    "import io\n",
    "import pandas as pd\n",
    "import geopandas as gpd\n",
    "import matplotlib.pyplot as plt\n",
    "from datetime import datetime, timedelta\n",
    "from timezonefinder import TimezoneFinder\n",
    "import time\n",
    "from glob import glob\n",
    "import rasterio as rio\n",
    "from googleapiclient.discovery import build\n",
    "from google.oauth2 import service_account\n",
    "from googleapiclient.http import MediaIoBaseDownload\n",
    "import numpy as np\n",
    "from osgeo import gdal\n",
    "gdal.SetConfigOption('SHAPE_RESTORE_SHX', 'YES')\n",
    "import ee\n",
    "import geemap\n",
    "import ast\n",
    "import re\n",
    "import math\n",
    "import itertools"
   ]
  },
  {
   "cell_type": "code",
   "execution_count": 37,
   "id": "2815d119-b008-4d7a-96b8-c6ab8266dd53",
   "metadata": {},
   "outputs": [
    {
     "data": {
      "text/html": [
       "\n",
       "            <style>\n",
       "                .geemap-dark {\n",
       "                    --jp-widgets-color: white;\n",
       "                    --jp-widgets-label-color: white;\n",
       "                    --jp-ui-font-color1: white;\n",
       "                    --jp-layout-color2: #454545;\n",
       "                    background-color: #383838;\n",
       "                }\n",
       "\n",
       "                .geemap-dark .jupyter-button {\n",
       "                    --jp-layout-color3: #383838;\n",
       "                }\n",
       "\n",
       "                .geemap-colab {\n",
       "                    background-color: var(--colab-primary-surface-color, white);\n",
       "                }\n",
       "\n",
       "                .geemap-colab .jupyter-button {\n",
       "                    --jp-layout-color3: var(--colab-primary-surface-color, white);\n",
       "                }\n",
       "            </style>\n",
       "            "
      ],
      "text/plain": [
       "<IPython.core.display.HTML object>"
      ]
     },
     "metadata": {},
     "output_type": "display_data"
    }
   ],
   "source": [
    "ee.Authenticate()\n",
    "ee.Initialize(project='karlzam')"
   ]
  },
  {
   "cell_type": "code",
   "execution_count": 38,
   "id": "b3dcefd9-1742-4a9e-8af4-9160a45827ee",
   "metadata": {},
   "outputs": [
    {
     "data": {
      "text/html": [
       "\n",
       "            <style>\n",
       "                .geemap-dark {\n",
       "                    --jp-widgets-color: white;\n",
       "                    --jp-widgets-label-color: white;\n",
       "                    --jp-ui-font-color1: white;\n",
       "                    --jp-layout-color2: #454545;\n",
       "                    background-color: #383838;\n",
       "                }\n",
       "\n",
       "                .geemap-dark .jupyter-button {\n",
       "                    --jp-layout-color3: #383838;\n",
       "                }\n",
       "\n",
       "                .geemap-colab {\n",
       "                    background-color: var(--colab-primary-surface-color, white);\n",
       "                }\n",
       "\n",
       "                .geemap-colab .jupyter-button {\n",
       "                    --jp-layout-color3: var(--colab-primary-surface-color, white);\n",
       "                }\n",
       "            </style>\n",
       "            "
      ],
      "text/plain": [
       "<IPython.core.display.HTML object>"
      ]
     },
     "metadata": {},
     "output_type": "display_data"
    }
   ],
   "source": [
    "def mask_s2_clouds(image):\n",
    "  \"\"\"Masks clouds in a Sentinel-2 image using the QA band.\n",
    "\n",
    "  Args:\n",
    "      image (ee.Image): A Sentinel-2 image.\n",
    "\n",
    "  Returns:\n",
    "      ee.Image: A cloud-masked Sentinel-2 image.\n",
    "  \"\"\"\n",
    "  qa = image.select('QA60')\n",
    "\n",
    "  # Bits 10 and 11 are clouds and cirrus, respectively.\n",
    "  cloud_bit_mask = 1 << 10\n",
    "  cirrus_bit_mask = 1 << 11\n",
    "\n",
    "  # Both flags should be set to zero, indicating clear conditions.\n",
    "  mask = (\n",
    "      qa.bitwiseAnd(cloud_bit_mask)\n",
    "      .eq(0)\n",
    "      .And(qa.bitwiseAnd(cirrus_bit_mask).eq(0))\n",
    "  )\n",
    "\n",
    "  return image.updateMask(mask).divide(10000)\n"
   ]
  },
  {
   "cell_type": "code",
   "execution_count": 39,
   "id": "d22de4ac-11ee-4a50-8008-48e1ab43562f",
   "metadata": {},
   "outputs": [
    {
     "data": {
      "text/html": [
       "\n",
       "            <style>\n",
       "                .geemap-dark {\n",
       "                    --jp-widgets-color: white;\n",
       "                    --jp-widgets-label-color: white;\n",
       "                    --jp-ui-font-color1: white;\n",
       "                    --jp-layout-color2: #454545;\n",
       "                    background-color: #383838;\n",
       "                }\n",
       "\n",
       "                .geemap-dark .jupyter-button {\n",
       "                    --jp-layout-color3: #383838;\n",
       "                }\n",
       "\n",
       "                .geemap-colab {\n",
       "                    background-color: var(--colab-primary-surface-color, white);\n",
       "                }\n",
       "\n",
       "                .geemap-colab .jupyter-button {\n",
       "                    --jp-layout-color3: var(--colab-primary-surface-color, white);\n",
       "                }\n",
       "            </style>\n",
       "            "
      ],
      "text/plain": [
       "<IPython.core.display.HTML object>"
      ]
     },
     "metadata": {},
     "output_type": "display_data"
    }
   ],
   "source": [
    "def fetch_sentinel_data(start_date, end_date, coords, fps, perim):\n",
    "\n",
    "    Map = geemap.Map()\n",
    "    \n",
    "    hotspot_date = start_date\n",
    "    \n",
    "    roi = ee.Geometry.Rectangle(coords)\n",
    "    \n",
    "    date_of_interest = ee.Date(hotspot_date)\n",
    "\n",
    "    dataset = (\n",
    "    ee.ImageCollection('COPERNICUS/S2_SR_HARMONIZED')\n",
    "    .filterDate('2023-10-01', '2023-10-30')\n",
    "    # Pre-filter to get less cloudy granules.\n",
    "    .filter(ee.Filter.lt('CLOUDY_PIXEL_PERCENTAGE', 20))\n",
    "    .map(mask_s2_clouds)\n",
    ")\n",
    "\n",
    "    # B12, B8A, B4\n",
    "    visualization = {\n",
    "        'min': 0.0,\n",
    "        'max': 0.3,\n",
    "        #'bands': ['B4', 'B3', 'B2'],\n",
    "        'bands': ['B12', 'B8A', 'B4'],\n",
    "    }\n",
    "\n",
    "    Map.centerObject(roi, 11)\n",
    "    Map.addLayer(dataset.mean(), visualization, 'SWIR', shown=1)\n",
    "\n",
    "    if perim != 'False':\n",
    "    #if not math.isnan(row['fire-perimeter']):\n",
    "        perim_fire = ee.Geometry.Polygon(perim)\n",
    "        Map.addLayer(perim_fire, name='Fire Perimeter', shown=1)\n",
    "    \n",
    "    hotspots = ee.Geometry.MultiPoint(fps)\n",
    "    Map.addLayer(hotspots, name='fp hotspots', shown=1)\n",
    "\n",
    "    return Map"
   ]
  },
  {
   "cell_type": "code",
   "execution_count": 41,
   "id": "80e9bad7-21ad-476c-89b1-73b89f767b56",
   "metadata": {},
   "outputs": [
    {
     "data": {
      "text/html": [
       "\n",
       "            <style>\n",
       "                .geemap-dark {\n",
       "                    --jp-widgets-color: white;\n",
       "                    --jp-widgets-label-color: white;\n",
       "                    --jp-ui-font-color1: white;\n",
       "                    --jp-layout-color2: #454545;\n",
       "                    background-color: #383838;\n",
       "                }\n",
       "\n",
       "                .geemap-dark .jupyter-button {\n",
       "                    --jp-layout-color3: #383838;\n",
       "                }\n",
       "\n",
       "                .geemap-colab {\n",
       "                    background-color: var(--colab-primary-surface-color, white);\n",
       "                }\n",
       "\n",
       "                .geemap-colab .jupyter-button {\n",
       "                    --jp-layout-color3: var(--colab-primary-surface-color, white);\n",
       "                }\n",
       "            </style>\n",
       "            "
      ],
      "text/plain": [
       "<IPython.core.display.HTML object>"
      ]
     },
     "metadata": {},
     "output_type": "display_data"
    }
   ],
   "source": [
    "#fp_file = pd.read_excel(r'C:\\Users\\kzammit\\Documents\\plumes\\dfs\\all-false-positives-2023-09-23.xlsx')\n",
    "fp_file = pd.read_csv(r'C:\\Users\\kzammit\\Documents\\plumes\\dfs\\all-false-positives-2023-09-23.csv')\n",
    "\n",
    "Maps = []\n",
    "hotspots = []\n",
    "\n",
    "for idx, row in fp_file.iterrows():\n",
    "\n",
    "    start_date = row['start_date']\n",
    "    start_date = str(start_date).split(' ')[0]\n",
    "\n",
    "    end_date = row['end_date']\n",
    "    end_date = str(end_date).split(' ')[0]\n",
    "    \n",
    "    coords = row['bounds']\n",
    "    coords = coords.split('(')[1]\n",
    "    coords = coords.split(')')[0]\n",
    "    coords = ast.literal_eval(\"[\" + coords + \"]\")\n",
    "    \n",
    "    fps = row['geometry']\n",
    "    fps_format = re.findall(r\"\\(\\s*(-?\\d+\\.\\d+)\\s+(-?\\d+\\.\\d+)\\s*\\)\", fps)\n",
    "    fp_points = [[float(lon), float(lat)] for lon, lat in fps_format]\n",
    "\n",
    "    if 'fire-perimeter' in row.index:\n",
    "        perim = row['fire-perimeter']\n",
    "        if type(perim) is str:\n",
    "            perim_format = re.findall(r\"(-?\\d+\\.\\d+)\\s+(-?\\d+\\.\\d+)\", perim)\n",
    "            perim_points = [[float(lon), float(lat)] for lon, lat in perim_format]\n",
    "            Map = fetch_sentinel_data(start_date, end_date, coords, fp_points, perim_points)\n",
    "        else: \n",
    "            Map = fetch_sentinel_data(start_date, end_date, coords, fp_points, 'False')\n",
    "    else: \n",
    "        Map = fetch_sentinel_data(start_date, end_date, coords, fp_points, 'False')\n",
    "\n",
    "\n",
    "    Maps.append(Map)"
   ]
  },
  {
   "cell_type": "code",
   "execution_count": 43,
   "id": "f384eb09-a51c-487b-a84b-cd8fb927ebaa",
   "metadata": {},
   "outputs": [
    {
     "data": {
      "text/html": [
       "\n",
       "            <style>\n",
       "                .geemap-dark {\n",
       "                    --jp-widgets-color: white;\n",
       "                    --jp-widgets-label-color: white;\n",
       "                    --jp-ui-font-color1: white;\n",
       "                    --jp-layout-color2: #454545;\n",
       "                    background-color: #383838;\n",
       "                }\n",
       "\n",
       "                .geemap-dark .jupyter-button {\n",
       "                    --jp-layout-color3: #383838;\n",
       "                }\n",
       "\n",
       "                .geemap-colab {\n",
       "                    background-color: var(--colab-primary-surface-color, white);\n",
       "                }\n",
       "\n",
       "                .geemap-colab .jupyter-button {\n",
       "                    --jp-layout-color3: var(--colab-primary-surface-color, white);\n",
       "                }\n",
       "            </style>\n",
       "            "
      ],
      "text/plain": [
       "<IPython.core.display.HTML object>"
      ]
     },
     "metadata": {},
     "output_type": "display_data"
    },
    {
     "data": {
      "application/vnd.jupyter.widget-view+json": {
       "model_id": "f4dae1a1f0084b6bac9fb8d7a1fd9dd6",
       "version_major": 2,
       "version_minor": 0
      },
      "text/plain": [
       "Map(center=[57.09225812667618, -100.26371000000901], controls=(WidgetControl(options=['position', 'transparent…"
      ]
     },
     "execution_count": 43,
     "metadata": {},
     "output_type": "execute_result"
    }
   ],
   "source": [
    "Maps[1]"
   ]
  },
  {
   "cell_type": "code",
   "execution_count": null,
   "id": "78d04402-7720-4a15-81d3-978385d53b08",
   "metadata": {},
   "outputs": [],
   "source": []
  }
 ],
 "metadata": {
  "kernelspec": {
   "display_name": "ee",
   "language": "python",
   "name": "ee"
  },
  "language_info": {
   "codemirror_mode": {
    "name": "ipython",
    "version": 3
   },
   "file_extension": ".py",
   "mimetype": "text/x-python",
   "name": "python",
   "nbconvert_exporter": "python",
   "pygments_lexer": "ipython3",
   "version": "3.12.5"
  }
 },
 "nbformat": 4,
 "nbformat_minor": 5
}
