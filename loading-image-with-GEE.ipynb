{
 "cells": [
  {
   "cell_type": "markdown",
   "id": "bc4d6efb-1285-46bc-a50c-85e94a17e532",
   "metadata": {},
   "source": [
    "# Loading Images with GEE"
   ]
  },
  {
   "cell_type": "code",
   "execution_count": 16,
   "id": "4cd1ea83-a0fb-4c68-a1ed-748011312a5c",
   "metadata": {},
   "outputs": [
    {
     "data": {
      "text/html": [
       "\n",
       "            <style>\n",
       "                .geemap-dark {\n",
       "                    --jp-widgets-color: white;\n",
       "                    --jp-widgets-label-color: white;\n",
       "                    --jp-ui-font-color1: white;\n",
       "                    --jp-layout-color2: #454545;\n",
       "                    background-color: #383838;\n",
       "                }\n",
       "\n",
       "                .geemap-dark .jupyter-button {\n",
       "                    --jp-layout-color3: #383838;\n",
       "                }\n",
       "\n",
       "                .geemap-colab {\n",
       "                    background-color: var(--colab-primary-surface-color, white);\n",
       "                }\n",
       "\n",
       "                .geemap-colab .jupyter-button {\n",
       "                    --jp-layout-color3: var(--colab-primary-surface-color, white);\n",
       "                }\n",
       "            </style>\n",
       "            "
      ],
      "text/plain": [
       "<IPython.core.display.HTML object>"
      ]
     },
     "metadata": {},
     "output_type": "display_data"
    }
   ],
   "source": [
    "import ee\n",
    "import geemap\n",
    "\n",
    "ee.Authenticate()\n",
    "ee.Initialize(project='karlzam')"
   ]
  },
  {
   "cell_type": "code",
   "execution_count": 34,
   "id": "979774de-4217-4597-920c-04ca80507d39",
   "metadata": {},
   "outputs": [
    {
     "data": {
      "text/html": [
       "\n",
       "            <style>\n",
       "                .geemap-dark {\n",
       "                    --jp-widgets-color: white;\n",
       "                    --jp-widgets-label-color: white;\n",
       "                    --jp-ui-font-color1: white;\n",
       "                    --jp-layout-color2: #454545;\n",
       "                    background-color: #383838;\n",
       "                }\n",
       "\n",
       "                .geemap-dark .jupyter-button {\n",
       "                    --jp-layout-color3: #383838;\n",
       "                }\n",
       "\n",
       "                .geemap-colab {\n",
       "                    background-color: var(--colab-primary-surface-color, white);\n",
       "                }\n",
       "\n",
       "                .geemap-colab .jupyter-button {\n",
       "                    --jp-layout-color3: var(--colab-primary-surface-color, white);\n",
       "                }\n",
       "            </style>\n",
       "            "
      ],
      "text/plain": [
       "<IPython.core.display.HTML object>"
      ]
     },
     "metadata": {},
     "output_type": "display_data"
    },
    {
     "data": {
      "application/vnd.jupyter.widget-view+json": {
       "model_id": "d2509a4014824bfca30e98611c11b439",
       "version_major": 2,
       "version_minor": 0
      },
      "text/plain": [
       "Map(center=[60.55843820087575, -96.70702570923034], controls=(WidgetControl(options=['position', 'transparent_…"
      ]
     },
     "execution_count": 34,
     "metadata": {},
     "output_type": "execute_result"
    }
   ],
   "source": [
    "Map = geemap.Map()\n",
    "\n",
    "# Large scale international boundary polygons, simplified\n",
    "countries = ee.FeatureCollection(\"USDOS/LSIB_SIMPLE/2017\")\n",
    "\n",
    "# Using swaziland as an example because it's small\n",
    "roi = countries.filter(ee.Filter.eq(\"country_na\", \"Canada\"));\n",
    "\n",
    "# Get map\n",
    "Map.addLayer(roi, {}, \"Canada\")\n",
    "\n",
    "# Center the object at the region of interest with a zoom of 8\n",
    "Map.centerObject(roi,4)\n",
    "\n",
    "# Load in landsat data with filter\n",
    "# Originally this covers the entire world over a long time series \n",
    "landsat = ee.ImageCollection(\"LANDSAT/LC08/C02/T1\").filterDate('2023-09-22', '2023-10-24').filterBounds(roi)\n",
    "\n",
    "# Remove clouds\n",
    "composite = ee.Algorithms.Landsat.simpleComposite(**{\n",
    "    'collection': landsat,\n",
    "    'asFloat': True\n",
    "})\n",
    "\n",
    "# Define landsat bands we'll be using \n",
    "rgbVis = {'bands': ['B4', 'B3', 'B2'], 'min':0, 'max':0.3}\n",
    "\n",
    "Map.addLayer(composite.clip(roi), rgbVis, \"Landsat RGB\")\n",
    "\n",
    "# Launch map\n",
    "Map"
   ]
  },
  {
   "cell_type": "code",
   "execution_count": 35,
   "id": "10d175c7-a923-45c7-8d1f-a478973b63df",
   "metadata": {},
   "outputs": [
    {
     "data": {
      "text/html": [
       "\n",
       "            <style>\n",
       "                .geemap-dark {\n",
       "                    --jp-widgets-color: white;\n",
       "                    --jp-widgets-label-color: white;\n",
       "                    --jp-ui-font-color1: white;\n",
       "                    --jp-layout-color2: #454545;\n",
       "                    background-color: #383838;\n",
       "                }\n",
       "\n",
       "                .geemap-dark .jupyter-button {\n",
       "                    --jp-layout-color3: #383838;\n",
       "                }\n",
       "\n",
       "                .geemap-colab {\n",
       "                    background-color: var(--colab-primary-surface-color, white);\n",
       "                }\n",
       "\n",
       "                .geemap-colab .jupyter-button {\n",
       "                    --jp-layout-color3: var(--colab-primary-surface-color, white);\n",
       "                }\n",
       "            </style>\n",
       "            "
      ],
      "text/plain": [
       "<IPython.core.display.HTML object>"
      ]
     },
     "metadata": {},
     "output_type": "display_data"
    }
   ],
   "source": [
    "# This adds FIRMS fires to the map from the time range we're interested in\n",
    "burned_areas = ee.ImageCollection(\"FIRMS\").filterDate('2023-09-22', '2023-09-24')\n",
    "fires = burned_areas.select('T21')\n",
    "\n",
    "firesVis = {'min': 0, 'max': 500.0, 'palette': ['red', 'orange', 'yellow']}\n",
    "\n",
    "Map.addLayer(fires, firesVis, \"FIRMS\")"
   ]
  },
  {
   "cell_type": "code",
   "execution_count": null,
   "id": "8187d73e-1e8b-411a-acf3-42678ee37b1e",
   "metadata": {},
   "outputs": [],
   "source": []
  }
 ],
 "metadata": {
  "kernelspec": {
   "display_name": "ee",
   "language": "python",
   "name": "ee"
  },
  "language_info": {
   "codemirror_mode": {
    "name": "ipython",
    "version": 3
   },
   "file_extension": ".py",
   "mimetype": "text/x-python",
   "name": "python",
   "nbconvert_exporter": "python",
   "pygments_lexer": "ipython3",
   "version": "3.12.5"
  }
 },
 "nbformat": 4,
 "nbformat_minor": 5
}
