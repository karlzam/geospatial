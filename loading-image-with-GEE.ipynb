{
 "cells": [
  {
   "cell_type": "markdown",
   "id": "bc4d6efb-1285-46bc-a50c-85e94a17e532",
   "metadata": {},
   "source": [
    "# Loading Images with GEE"
   ]
  },
  {
   "cell_type": "markdown",
   "id": "965d12ab-6687-4bb2-b538-95ff2e8eb3b9",
   "metadata": {},
   "source": [
    "## Notes"
   ]
  },
  {
   "cell_type": "markdown",
   "id": "b935801d-4505-4cbb-acbc-881aa2d10c2c",
   "metadata": {},
   "source": [
    "### Images vs ImageCollections\n",
    "\n",
    "Add this"
   ]
  },
  {
   "cell_type": "markdown",
   "id": "058d5bbf-542e-4536-a5a4-25174a004240",
   "metadata": {},
   "source": [
    "### Smoke and Cloud Cover in Imagery"
   ]
  },
  {
   "cell_type": "markdown",
   "id": "88afc0af-c261-4b3f-b4cd-28d920d65ca2",
   "metadata": {},
   "source": [
    "## Code"
   ]
  },
  {
   "cell_type": "code",
   "execution_count": 1,
   "id": "4cd1ea83-a0fb-4c68-a1ed-748011312a5c",
   "metadata": {},
   "outputs": [],
   "source": [
    "import ee\n",
    "import geemap\n",
    "\n",
    "ee.Authenticate()\n",
    "ee.Initialize(project='karlzam')"
   ]
  },
  {
   "cell_type": "code",
   "execution_count": 11,
   "id": "9ccd5bb9-0303-4611-a07d-128175ef48c9",
   "metadata": {},
   "outputs": [
    {
     "data": {
      "text/html": [
       "\n",
       "            <style>\n",
       "                .geemap-dark {\n",
       "                    --jp-widgets-color: white;\n",
       "                    --jp-widgets-label-color: white;\n",
       "                    --jp-ui-font-color1: white;\n",
       "                    --jp-layout-color2: #454545;\n",
       "                    background-color: #383838;\n",
       "                }\n",
       "\n",
       "                .geemap-dark .jupyter-button {\n",
       "                    --jp-layout-color3: #383838;\n",
       "                }\n",
       "\n",
       "                .geemap-colab {\n",
       "                    background-color: var(--colab-primary-surface-color, white);\n",
       "                }\n",
       "\n",
       "                .geemap-colab .jupyter-button {\n",
       "                    --jp-layout-color3: var(--colab-primary-surface-color, white);\n",
       "                }\n",
       "            </style>\n",
       "            "
      ],
      "text/plain": [
       "<IPython.core.display.HTML object>"
      ]
     },
     "metadata": {},
     "output_type": "display_data"
    }
   ],
   "source": [
    "startDate = '2023-09-22'\n",
    "endDate = '2023-10-24'"
   ]
  },
  {
   "cell_type": "code",
   "execution_count": 12,
   "id": "979774de-4217-4597-920c-04ca80507d39",
   "metadata": {},
   "outputs": [
    {
     "data": {
      "text/html": [
       "\n",
       "            <style>\n",
       "                .geemap-dark {\n",
       "                    --jp-widgets-color: white;\n",
       "                    --jp-widgets-label-color: white;\n",
       "                    --jp-ui-font-color1: white;\n",
       "                    --jp-layout-color2: #454545;\n",
       "                    background-color: #383838;\n",
       "                }\n",
       "\n",
       "                .geemap-dark .jupyter-button {\n",
       "                    --jp-layout-color3: #383838;\n",
       "                }\n",
       "\n",
       "                .geemap-colab {\n",
       "                    background-color: var(--colab-primary-surface-color, white);\n",
       "                }\n",
       "\n",
       "                .geemap-colab .jupyter-button {\n",
       "                    --jp-layout-color3: var(--colab-primary-surface-color, white);\n",
       "                }\n",
       "            </style>\n",
       "            "
      ],
      "text/plain": [
       "<IPython.core.display.HTML object>"
      ]
     },
     "metadata": {},
     "output_type": "display_data"
    }
   ],
   "source": [
    "Map = geemap.Map()\n",
    "\n",
    "# Large scale international boundary polygons, simplified\n",
    "countries = ee.FeatureCollection(\"USDOS/LSIB_SIMPLE/2017\")\n",
    "\n",
    "# Using swaziland as an example because it's small\n",
    "roi = countries.filter(ee.Filter.eq(\"country_na\", \"Canada\"));\n",
    "\n",
    "# Get map\n",
    "Map.addLayer(roi, {}, \"Canada\")\n",
    "\n",
    "# Center the object at the region of interest with a zoom of 8\n",
    "Map.centerObject(roi,4)\n",
    "\n",
    "# Load in landsat data with filter\n",
    "# Originally this covers the entire world over a long time series \n",
    "landsat = ee.ImageCollection(\"LANDSAT/LC08/C02/T1\").filterDate(startDate, endDate).filterBounds(roi)\n",
    "\n",
    "# Remove clouds\n",
    "composite = ee.Algorithms.Landsat.simpleComposite(**{\n",
    "    'collection': landsat,\n",
    "    'asFloat': True\n",
    "})\n",
    "\n",
    "# Define landsat bands we'll be using \n",
    "rgbVis = {'bands': ['B4', 'B3', 'B2'], 'min':0, 'max':0.3}\n",
    "\n",
    "Map.addLayer(composite.clip(roi), rgbVis, \"Landsat RGB\")"
   ]
  },
  {
   "cell_type": "code",
   "execution_count": 13,
   "id": "06f2a597-22cb-4a98-bf51-92e59216a986",
   "metadata": {},
   "outputs": [
    {
     "data": {
      "text/html": [
       "\n",
       "            <style>\n",
       "                .geemap-dark {\n",
       "                    --jp-widgets-color: white;\n",
       "                    --jp-widgets-label-color: white;\n",
       "                    --jp-ui-font-color1: white;\n",
       "                    --jp-layout-color2: #454545;\n",
       "                    background-color: #383838;\n",
       "                }\n",
       "\n",
       "                .geemap-dark .jupyter-button {\n",
       "                    --jp-layout-color3: #383838;\n",
       "                }\n",
       "\n",
       "                .geemap-colab {\n",
       "                    background-color: var(--colab-primary-surface-color, white);\n",
       "                }\n",
       "\n",
       "                .geemap-colab .jupyter-button {\n",
       "                    --jp-layout-color3: var(--colab-primary-surface-color, white);\n",
       "                }\n",
       "            </style>\n",
       "            "
      ],
      "text/plain": [
       "<IPython.core.display.HTML object>"
      ]
     },
     "metadata": {},
     "output_type": "display_data"
    }
   ],
   "source": [
    "def mask_s2_clouds(image):\n",
    "  \"\"\"Masks clouds in a Sentinel-2 image using the QA band.\n",
    "\n",
    "  Args:\n",
    "      image (ee.Image): A Sentinel-2 image.\n",
    "\n",
    "  Returns:\n",
    "      ee.Image: A cloud-masked Sentinel-2 image.\n",
    "  \"\"\"\n",
    "  qa = image.select('QA60')\n",
    "\n",
    "  # Bits 10 and 11 are clouds and cirrus, respectively.\n",
    "  cloud_bit_mask = 1 << 10\n",
    "  cirrus_bit_mask = 1 << 11\n",
    "\n",
    "  # Both flags should be set to zero, indicating clear conditions.\n",
    "  mask = (\n",
    "      qa.bitwiseAnd(cloud_bit_mask)\n",
    "      .eq(0)\n",
    "      .And(qa.bitwiseAnd(cirrus_bit_mask).eq(0))\n",
    "  )\n",
    "\n",
    "  return image.updateMask(mask).divide(10000)\n",
    "\n",
    "\n",
    "dataset = (\n",
    "    ee.ImageCollection('COPERNICUS/S2_SR_HARMONIZED')\n",
    "    .filterDate(startDate, endDate)\n",
    "    # Pre-filter to get less cloudy granules.\n",
    "    .filter(ee.Filter.lt('CLOUDY_PIXEL_PERCENTAGE', 20))\n",
    "    .map(mask_s2_clouds)\n",
    ")\n",
    "\n",
    "visualization = {\n",
    "    'min': 0.0,\n",
    "    'max': 0.3,\n",
    "    'bands': ['B4', 'B3', 'B2'],\n",
    "}\n",
    "\n",
    "Map.add_layer(dataset.mean(), visualization, 'RGB-Sentinel')"
   ]
  },
  {
   "cell_type": "code",
   "execution_count": 14,
   "id": "10d175c7-a923-45c7-8d1f-a478973b63df",
   "metadata": {},
   "outputs": [
    {
     "data": {
      "text/html": [
       "\n",
       "            <style>\n",
       "                .geemap-dark {\n",
       "                    --jp-widgets-color: white;\n",
       "                    --jp-widgets-label-color: white;\n",
       "                    --jp-ui-font-color1: white;\n",
       "                    --jp-layout-color2: #454545;\n",
       "                    background-color: #383838;\n",
       "                }\n",
       "\n",
       "                .geemap-dark .jupyter-button {\n",
       "                    --jp-layout-color3: #383838;\n",
       "                }\n",
       "\n",
       "                .geemap-colab {\n",
       "                    background-color: var(--colab-primary-surface-color, white);\n",
       "                }\n",
       "\n",
       "                .geemap-colab .jupyter-button {\n",
       "                    --jp-layout-color3: var(--colab-primary-surface-color, white);\n",
       "                }\n",
       "            </style>\n",
       "            "
      ],
      "text/plain": [
       "<IPython.core.display.HTML object>"
      ]
     },
     "metadata": {},
     "output_type": "display_data"
    }
   ],
   "source": [
    "# FIRMS\n",
    "# MODIS fire thermal anomalies \n",
    "# Active fire locations \n",
    "\n",
    "burned_areas_FIRMS = ee.ImageCollection(\"FIRMS\").filterDate(startDate, endDate)\n",
    "fires = burned_areas_FIRMS.select('T21')\n",
    "\n",
    "firesVis = {'min': 0, 'max': 500.0, 'palette': ['red', 'orange', 'yellow']}\n",
    "\n",
    "Map.addLayer(fires, firesVis, \"FIRMS\")"
   ]
  },
  {
   "cell_type": "code",
   "execution_count": 15,
   "id": "8187d73e-1e8b-411a-acf3-42678ee37b1e",
   "metadata": {},
   "outputs": [
    {
     "data": {
      "text/html": [
       "\n",
       "            <style>\n",
       "                .geemap-dark {\n",
       "                    --jp-widgets-color: white;\n",
       "                    --jp-widgets-label-color: white;\n",
       "                    --jp-ui-font-color1: white;\n",
       "                    --jp-layout-color2: #454545;\n",
       "                    background-color: #383838;\n",
       "                }\n",
       "\n",
       "                .geemap-dark .jupyter-button {\n",
       "                    --jp-layout-color3: #383838;\n",
       "                }\n",
       "\n",
       "                .geemap-colab {\n",
       "                    background-color: var(--colab-primary-surface-color, white);\n",
       "                }\n",
       "\n",
       "                .geemap-colab .jupyter-button {\n",
       "                    --jp-layout-color3: var(--colab-primary-surface-color, white);\n",
       "                }\n",
       "            </style>\n",
       "            "
      ],
      "text/plain": [
       "<IPython.core.display.HTML object>"
      ]
     },
     "metadata": {},
     "output_type": "display_data"
    }
   ],
   "source": [
    "# Adds MODIS Burned Area\n",
    "# Monthly per pixel burned area and quality info (500m)\n",
    "\n",
    "burned_areas_MODIS = ee.ImageCollection(\"MODIS/061/MCD64A1\").filterDate(startDate, endDate)\n",
    "burnedAreaMODIS = burned_areas_MODIS.select('BurnDate')\n",
    "burnedAreaVis = {\n",
    "  'min': 30.0,\n",
    "  'max': 341.0,\n",
    "  'palette': ['4e0400', '951003', 'c61503', 'ff1901'],\n",
    "}\n",
    "Map.addLayer(burnedAreaMODIS, burnedAreaVis, 'MODIS')"
   ]
  },
  {
   "cell_type": "code",
   "execution_count": 16,
   "id": "af00a15c-6259-4ffc-b8f8-23f751d5b48b",
   "metadata": {},
   "outputs": [
    {
     "data": {
      "text/html": [
       "\n",
       "            <style>\n",
       "                .geemap-dark {\n",
       "                    --jp-widgets-color: white;\n",
       "                    --jp-widgets-label-color: white;\n",
       "                    --jp-ui-font-color1: white;\n",
       "                    --jp-layout-color2: #454545;\n",
       "                    background-color: #383838;\n",
       "                }\n",
       "\n",
       "                .geemap-dark .jupyter-button {\n",
       "                    --jp-layout-color3: #383838;\n",
       "                }\n",
       "\n",
       "                .geemap-colab {\n",
       "                    background-color: var(--colab-primary-surface-color, white);\n",
       "                }\n",
       "\n",
       "                .geemap-colab .jupyter-button {\n",
       "                    --jp-layout-color3: var(--colab-primary-surface-color, white);\n",
       "                }\n",
       "            </style>\n",
       "            "
      ],
      "text/plain": [
       "<IPython.core.display.HTML object>"
      ]
     },
     "metadata": {},
     "output_type": "display_data"
    },
    {
     "data": {
      "application/vnd.jupyter.widget-view+json": {
       "model_id": "2cbc98a2ee2c46f69f88d7110ca14d90",
       "version_major": 2,
       "version_minor": 0
      },
      "text/plain": [
       "Map(center=[60.558438200875784, -96.70702570923024], controls=(WidgetControl(options=['position', 'transparent…"
      ]
     },
     "execution_count": 16,
     "metadata": {},
     "output_type": "execute_result"
    }
   ],
   "source": [
    "# Launch map\n",
    "Map"
   ]
  },
  {
   "cell_type": "code",
   "execution_count": null,
   "id": "c6be020f-9c80-4fd1-9b2a-a73aa6b13127",
   "metadata": {},
   "outputs": [],
   "source": []
  }
 ],
 "metadata": {
  "kernelspec": {
   "display_name": "ee",
   "language": "python",
   "name": "ee"
  },
  "language_info": {
   "codemirror_mode": {
    "name": "ipython",
    "version": 3
   },
   "file_extension": ".py",
   "mimetype": "text/x-python",
   "name": "python",
   "nbconvert_exporter": "python",
   "pygments_lexer": "ipython3",
   "version": "3.12.5"
  }
 },
 "nbformat": 4,
 "nbformat_minor": 5
}
