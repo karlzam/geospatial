{
 "cells": [
  {
   "cell_type": "code",
   "execution_count": 1,
   "id": "5522da46-49cd-4d3e-929e-82ca87a15089",
   "metadata": {},
   "outputs": [
    {
     "name": "stdout",
     "output_type": "stream",
     "text": [
      "[1 2 3 4]\n"
     ]
    }
   ],
   "source": [
    "import numpy as np \n",
    "\n",
    "a = np.array([1,2,3,4])\n",
    "print(a)"
   ]
  },
  {
   "cell_type": "code",
   "execution_count": 5,
   "id": "7fd8172d-32df-4811-a8e6-129044251921",
   "metadata": {},
   "outputs": [
    {
     "name": "stdout",
     "output_type": "stream",
     "text": [
      "249816.22695106073\n",
      "vec version: 0.0ms\n",
      "249816.22695105922\n",
      "for loop: 1010.0300312042236ms\n"
     ]
    }
   ],
   "source": [
    "import time \n",
    "a = np.random.rand(1000000)\n",
    "b = np.random.rand(1000000)\n",
    "\n",
    "tic= time.time()\n",
    "c = np.dot(a,b)\n",
    "toc = time.time()\n",
    "\n",
    "print(c)\n",
    "print('vec version: ' + str(1000*(toc-tic)) + 'ms') \n",
    "\n",
    "c = 0\n",
    "tic = time.time()\n",
    "for i in range(1000000): \n",
    "    c += a[i]*b[i]\n",
    "toc = time.time()\n",
    "\n",
    "print(c)\n",
    "print( \"for loop: \" + str(1000*(toc-tic)) + 'ms') "
   ]
  },
  {
   "cell_type": "code",
   "execution_count": null,
   "id": "7125a589-efab-4103-b884-c6fcafe79e5e",
   "metadata": {},
   "outputs": [],
   "source": []
  }
 ],
 "metadata": {
  "kernelspec": {
   "display_name": "ee",
   "language": "python",
   "name": "ee"
  },
  "language_info": {
   "codemirror_mode": {
    "name": "ipython",
    "version": 3
   },
   "file_extension": ".py",
   "mimetype": "text/x-python",
   "name": "python",
   "nbconvert_exporter": "python",
   "pygments_lexer": "ipython3",
   "version": "3.12.5"
  }
 },
 "nbformat": 4,
 "nbformat_minor": 5
}
